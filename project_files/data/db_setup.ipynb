{
 "cells": [
  {
   "cell_type": "code",
   "execution_count": 82,
   "metadata": {},
   "outputs": [
    {
     "name": "stderr",
     "output_type": "stream",
     "text": [
      "rm: cannot remove 'taxi.sqlite': Device or resource busy\n"
     ]
    }
   ],
   "source": [
    "!rm taxi.sqlite"
   ]
  },
  {
   "cell_type": "code",
   "execution_count": 83,
   "metadata": {},
   "outputs": [],
   "source": [
    "import pandas as pd"
   ]
  },
  {
   "cell_type": "code",
   "execution_count": 84,
   "metadata": {},
   "outputs": [],
   "source": [
    "taxi_data = \"taxi_data_12-31-2016.csv\"\n",
    "taxi_data_df = pd.read_csv(taxi_data) "
   ]
  },
  {
   "cell_type": "code",
   "execution_count": 85,
   "metadata": {},
   "outputs": [
    {
     "data": {
      "text/html": [
       "<div>\n",
       "<style scoped>\n",
       "    .dataframe tbody tr th:only-of-type {\n",
       "        vertical-align: middle;\n",
       "    }\n",
       "\n",
       "    .dataframe tbody tr th {\n",
       "        vertical-align: top;\n",
       "    }\n",
       "\n",
       "    .dataframe thead th {\n",
       "        text-align: right;\n",
       "    }\n",
       "</style>\n",
       "<table border=\"1\" class=\"dataframe\">\n",
       "  <thead>\n",
       "    <tr style=\"text-align: right;\">\n",
       "      <th></th>\n",
       "      <th>trip_id</th>\n",
       "      <th>trip_start_timestamp</th>\n",
       "      <th>trip_end_timestamp</th>\n",
       "      <th>fare</th>\n",
       "      <th>pickup_latitude</th>\n",
       "      <th>pickup_longitude</th>\n",
       "      <th>dropoff_latitude</th>\n",
       "      <th>dropoff_longitude</th>\n",
       "    </tr>\n",
       "  </thead>\n",
       "  <tbody>\n",
       "    <tr>\n",
       "      <th>0</th>\n",
       "      <td>32761dfbd17e17c7594369a27b47d01e42b9d81c</td>\n",
       "      <td>12/31/2016 19:30</td>\n",
       "      <td>12/31/2016 19:30</td>\n",
       "      <td>0.0</td>\n",
       "      <td>NaN</td>\n",
       "      <td>NaN</td>\n",
       "      <td>NaN</td>\n",
       "      <td>NaN</td>\n",
       "    </tr>\n",
       "    <tr>\n",
       "      <th>1</th>\n",
       "      <td>79429ce2f9829733a2b1b6f69ae5b142328657a7</td>\n",
       "      <td>12/31/2016 9:15</td>\n",
       "      <td>12/31/2016 9:15</td>\n",
       "      <td>5.0</td>\n",
       "      <td>NaN</td>\n",
       "      <td>NaN</td>\n",
       "      <td>NaN</td>\n",
       "      <td>NaN</td>\n",
       "    </tr>\n",
       "    <tr>\n",
       "      <th>2</th>\n",
       "      <td>7e0faa899f6a26956b36869b9b1611eada9fcc89</td>\n",
       "      <td>12/31/2016 14:45</td>\n",
       "      <td>12/31/2016 14:45</td>\n",
       "      <td>5.0</td>\n",
       "      <td>NaN</td>\n",
       "      <td>NaN</td>\n",
       "      <td>NaN</td>\n",
       "      <td>NaN</td>\n",
       "    </tr>\n",
       "  </tbody>\n",
       "</table>\n",
       "</div>"
      ],
      "text/plain": [
       "                                    trip_id trip_start_timestamp  \\\n",
       "0  32761dfbd17e17c7594369a27b47d01e42b9d81c     12/31/2016 19:30   \n",
       "1  79429ce2f9829733a2b1b6f69ae5b142328657a7      12/31/2016 9:15   \n",
       "2  7e0faa899f6a26956b36869b9b1611eada9fcc89     12/31/2016 14:45   \n",
       "\n",
       "  trip_end_timestamp  fare  pickup_latitude  pickup_longitude  \\\n",
       "0   12/31/2016 19:30   0.0              NaN               NaN   \n",
       "1    12/31/2016 9:15   5.0              NaN               NaN   \n",
       "2   12/31/2016 14:45   5.0              NaN               NaN   \n",
       "\n",
       "   dropoff_latitude  dropoff_longitude  \n",
       "0               NaN                NaN  \n",
       "1               NaN                NaN  \n",
       "2               NaN                NaN  "
      ]
     },
     "execution_count": 85,
     "metadata": {},
     "output_type": "execute_result"
    }
   ],
   "source": [
    "taxi_data_df.head(3)"
   ]
  },
  {
   "cell_type": "code",
   "execution_count": 86,
   "metadata": {},
   "outputs": [],
   "source": [
    "clean_taxi_df = taxi_data_df.dropna(how='any')"
   ]
  },
  {
   "cell_type": "code",
   "execution_count": 87,
   "metadata": {},
   "outputs": [
    {
     "data": {
      "text/html": [
       "<div>\n",
       "<style scoped>\n",
       "    .dataframe tbody tr th:only-of-type {\n",
       "        vertical-align: middle;\n",
       "    }\n",
       "\n",
       "    .dataframe tbody tr th {\n",
       "        vertical-align: top;\n",
       "    }\n",
       "\n",
       "    .dataframe thead th {\n",
       "        text-align: right;\n",
       "    }\n",
       "</style>\n",
       "<table border=\"1\" class=\"dataframe\">\n",
       "  <thead>\n",
       "    <tr style=\"text-align: right;\">\n",
       "      <th></th>\n",
       "      <th>trip_id</th>\n",
       "      <th>trip_start_timestamp</th>\n",
       "      <th>trip_end_timestamp</th>\n",
       "      <th>fare</th>\n",
       "      <th>pickup_latitude</th>\n",
       "      <th>pickup_longitude</th>\n",
       "      <th>dropoff_latitude</th>\n",
       "      <th>dropoff_longitude</th>\n",
       "    </tr>\n",
       "  </thead>\n",
       "  <tbody>\n",
       "    <tr>\n",
       "      <th>11</th>\n",
       "      <td>02847db485a2d331ad991e73aadd1e7930ebde97</td>\n",
       "      <td>12/31/2016 1:30</td>\n",
       "      <td>12/31/2016 1:45</td>\n",
       "      <td>6.25</td>\n",
       "      <td>41.901207</td>\n",
       "      <td>-87.676356</td>\n",
       "      <td>41.901207</td>\n",
       "      <td>-87.676356</td>\n",
       "    </tr>\n",
       "    <tr>\n",
       "      <th>12</th>\n",
       "      <td>03c31816c81af2c86c9289c22359c22507cfaffe</td>\n",
       "      <td>12/31/2016 22:15</td>\n",
       "      <td>12/31/2016 22:30</td>\n",
       "      <td>6.75</td>\n",
       "      <td>41.922761</td>\n",
       "      <td>-87.699155</td>\n",
       "      <td>41.922761</td>\n",
       "      <td>-87.699155</td>\n",
       "    </tr>\n",
       "    <tr>\n",
       "      <th>13</th>\n",
       "      <td>0417a35f9db99f8828887fdd42953d6c85b2f105</td>\n",
       "      <td>12/31/2016 19:45</td>\n",
       "      <td>12/31/2016 20:00</td>\n",
       "      <td>4.75</td>\n",
       "      <td>41.965812</td>\n",
       "      <td>-87.655879</td>\n",
       "      <td>41.965812</td>\n",
       "      <td>-87.655879</td>\n",
       "    </tr>\n",
       "    <tr>\n",
       "      <th>15</th>\n",
       "      <td>07a800a010437e5718c8c46f6d5bc6d4ebadb3c3</td>\n",
       "      <td>12/31/2016 23:15</td>\n",
       "      <td>12/31/2016 23:30</td>\n",
       "      <td>8.00</td>\n",
       "      <td>41.885281</td>\n",
       "      <td>-87.657233</td>\n",
       "      <td>41.893216</td>\n",
       "      <td>-87.637844</td>\n",
       "    </tr>\n",
       "    <tr>\n",
       "      <th>16</th>\n",
       "      <td>0a4bf27162d338893ad9cd33048f4838d4dcbf2c</td>\n",
       "      <td>12/31/2016 0:15</td>\n",
       "      <td>12/31/2016 0:30</td>\n",
       "      <td>8.25</td>\n",
       "      <td>41.899602</td>\n",
       "      <td>-87.633308</td>\n",
       "      <td>41.899602</td>\n",
       "      <td>-87.633308</td>\n",
       "    </tr>\n",
       "    <tr>\n",
       "      <th>17</th>\n",
       "      <td>0b313871bb5e22434be939777b4773d4bc20ec32</td>\n",
       "      <td>12/31/2016 17:00</td>\n",
       "      <td>12/31/2016 17:15</td>\n",
       "      <td>20.00</td>\n",
       "      <td>41.899602</td>\n",
       "      <td>-87.633308</td>\n",
       "      <td>41.944227</td>\n",
       "      <td>-87.655998</td>\n",
       "    </tr>\n",
       "    <tr>\n",
       "      <th>18</th>\n",
       "      <td>0e16e461b21f26b0ac3583fa5d5fb286b3e4a8a3</td>\n",
       "      <td>12/31/2016 14:15</td>\n",
       "      <td>12/31/2016 14:45</td>\n",
       "      <td>15.25</td>\n",
       "      <td>41.922686</td>\n",
       "      <td>-87.649489</td>\n",
       "      <td>41.874005</td>\n",
       "      <td>-87.663518</td>\n",
       "    </tr>\n",
       "    <tr>\n",
       "      <th>19</th>\n",
       "      <td>0efe698106a8086fab8d3c59fc97f6441a0e0bd6</td>\n",
       "      <td>12/31/2016 18:15</td>\n",
       "      <td>12/31/2016 18:30</td>\n",
       "      <td>4.25</td>\n",
       "      <td>41.965812</td>\n",
       "      <td>-87.655879</td>\n",
       "      <td>41.965812</td>\n",
       "      <td>-87.655879</td>\n",
       "    </tr>\n",
       "    <tr>\n",
       "      <th>20</th>\n",
       "      <td>1198c3af81853a68408a89a6a9a04dd6445d42c3</td>\n",
       "      <td>12/31/2016 14:45</td>\n",
       "      <td>12/31/2016 14:45</td>\n",
       "      <td>6.75</td>\n",
       "      <td>41.922686</td>\n",
       "      <td>-87.649489</td>\n",
       "      <td>41.944227</td>\n",
       "      <td>-87.655998</td>\n",
       "    </tr>\n",
       "    <tr>\n",
       "      <th>22</th>\n",
       "      <td>16b4eb24958b8987f245b013bdcca17fe36a2fc4</td>\n",
       "      <td>12/31/2016 10:15</td>\n",
       "      <td>12/31/2016 10:30</td>\n",
       "      <td>7.25</td>\n",
       "      <td>41.878866</td>\n",
       "      <td>-87.625192</td>\n",
       "      <td>41.874005</td>\n",
       "      <td>-87.663518</td>\n",
       "    </tr>\n",
       "  </tbody>\n",
       "</table>\n",
       "</div>"
      ],
      "text/plain": [
       "                                     trip_id trip_start_timestamp  \\\n",
       "11  02847db485a2d331ad991e73aadd1e7930ebde97      12/31/2016 1:30   \n",
       "12  03c31816c81af2c86c9289c22359c22507cfaffe     12/31/2016 22:15   \n",
       "13  0417a35f9db99f8828887fdd42953d6c85b2f105     12/31/2016 19:45   \n",
       "15  07a800a010437e5718c8c46f6d5bc6d4ebadb3c3     12/31/2016 23:15   \n",
       "16  0a4bf27162d338893ad9cd33048f4838d4dcbf2c      12/31/2016 0:15   \n",
       "17  0b313871bb5e22434be939777b4773d4bc20ec32     12/31/2016 17:00   \n",
       "18  0e16e461b21f26b0ac3583fa5d5fb286b3e4a8a3     12/31/2016 14:15   \n",
       "19  0efe698106a8086fab8d3c59fc97f6441a0e0bd6     12/31/2016 18:15   \n",
       "20  1198c3af81853a68408a89a6a9a04dd6445d42c3     12/31/2016 14:45   \n",
       "22  16b4eb24958b8987f245b013bdcca17fe36a2fc4     12/31/2016 10:15   \n",
       "\n",
       "   trip_end_timestamp   fare  pickup_latitude  pickup_longitude  \\\n",
       "11    12/31/2016 1:45   6.25        41.901207        -87.676356   \n",
       "12   12/31/2016 22:30   6.75        41.922761        -87.699155   \n",
       "13   12/31/2016 20:00   4.75        41.965812        -87.655879   \n",
       "15   12/31/2016 23:30   8.00        41.885281        -87.657233   \n",
       "16    12/31/2016 0:30   8.25        41.899602        -87.633308   \n",
       "17   12/31/2016 17:15  20.00        41.899602        -87.633308   \n",
       "18   12/31/2016 14:45  15.25        41.922686        -87.649489   \n",
       "19   12/31/2016 18:30   4.25        41.965812        -87.655879   \n",
       "20   12/31/2016 14:45   6.75        41.922686        -87.649489   \n",
       "22   12/31/2016 10:30   7.25        41.878866        -87.625192   \n",
       "\n",
       "    dropoff_latitude  dropoff_longitude  \n",
       "11         41.901207         -87.676356  \n",
       "12         41.922761         -87.699155  \n",
       "13         41.965812         -87.655879  \n",
       "15         41.893216         -87.637844  \n",
       "16         41.899602         -87.633308  \n",
       "17         41.944227         -87.655998  \n",
       "18         41.874005         -87.663518  \n",
       "19         41.965812         -87.655879  \n",
       "20         41.944227         -87.655998  \n",
       "22         41.874005         -87.663518  "
      ]
     },
     "execution_count": 87,
     "metadata": {},
     "output_type": "execute_result"
    }
   ],
   "source": [
    "clean_taxi_df.head(10)"
   ]
  },
  {
   "cell_type": "code",
   "execution_count": 88,
   "metadata": {},
   "outputs": [
    {
     "data": {
      "text/plain": [
       "trip_id                 28561\n",
       "trip_start_timestamp    28561\n",
       "trip_end_timestamp      28561\n",
       "fare                    28561\n",
       "pickup_latitude         28561\n",
       "pickup_longitude        28561\n",
       "dropoff_latitude        28561\n",
       "dropoff_longitude       28561\n",
       "dtype: int64"
      ]
     },
     "execution_count": 88,
     "metadata": {},
     "output_type": "execute_result"
    }
   ],
   "source": [
    "clean_taxi_df.count()"
   ]
  },
  {
   "cell_type": "code",
   "execution_count": 89,
   "metadata": {},
   "outputs": [
    {
     "name": "stdout",
     "output_type": "stream",
     "text": [
      "Help on method to_sql in module pandas.core.generic:\n",
      "\n",
      "to_sql(name, con, schema=None, if_exists='fail', index=True, index_label=None, chunksize=None, dtype=None) method of pandas.core.frame.DataFrame instance\n",
      "    Write records stored in a DataFrame to a SQL database.\n",
      "    \n",
      "    Databases supported by SQLAlchemy [1]_ are supported. Tables can be\n",
      "    newly created, appended to, or overwritten.\n",
      "    \n",
      "    Parameters\n",
      "    ----------\n",
      "    name : string\n",
      "        Name of SQL table.\n",
      "    con : sqlalchemy.engine.Engine or sqlite3.Connection\n",
      "        Using SQLAlchemy makes it possible to use any DB supported by that\n",
      "        library. Legacy support is provided for sqlite3.Connection objects.\n",
      "    schema : string, optional\n",
      "        Specify the schema (if database flavor supports this). If None, use\n",
      "        default schema.\n",
      "    if_exists : {'fail', 'replace', 'append'}, default 'fail'\n",
      "        How to behave if the table already exists.\n",
      "    \n",
      "        * fail: Raise a ValueError.\n",
      "        * replace: Drop the table before inserting new values.\n",
      "        * append: Insert new values to the existing table.\n",
      "    \n",
      "    index : boolean, default True\n",
      "        Write DataFrame index as a column. Uses `index_label` as the column\n",
      "        name in the table.\n",
      "    index_label : string or sequence, default None\n",
      "        Column label for index column(s). If None is given (default) and\n",
      "        `index` is True, then the index names are used.\n",
      "        A sequence should be given if the DataFrame uses MultiIndex.\n",
      "    chunksize : int, optional\n",
      "        Rows will be written in batches of this size at a time. By default,\n",
      "        all rows will be written at once.\n",
      "    dtype : dict, optional\n",
      "        Specifying the datatype for columns. The keys should be the column\n",
      "        names and the values should be the SQLAlchemy types or strings for\n",
      "        the sqlite3 legacy mode.\n",
      "    \n",
      "    Raises\n",
      "    ------\n",
      "    ValueError\n",
      "        When the table already exists and `if_exists` is 'fail' (the\n",
      "        default).\n",
      "    \n",
      "    See Also\n",
      "    --------\n",
      "    pandas.read_sql : read a DataFrame from a table\n",
      "    \n",
      "    References\n",
      "    ----------\n",
      "    .. [1] http://docs.sqlalchemy.org\n",
      "    .. [2] https://www.python.org/dev/peps/pep-0249/\n",
      "    \n",
      "    Examples\n",
      "    --------\n",
      "    \n",
      "    Create an in-memory SQLite database.\n",
      "    \n",
      "    >>> from sqlalchemy import create_engine\n",
      "    >>> engine = create_engine('sqlite://', echo=False)\n",
      "    \n",
      "    Create a table from scratch with 3 rows.\n",
      "    \n",
      "    >>> df = pd.DataFrame({'name' : ['User 1', 'User 2', 'User 3']})\n",
      "    >>> df\n",
      "         name\n",
      "    0  User 1\n",
      "    1  User 2\n",
      "    2  User 3\n",
      "    \n",
      "    >>> df.to_sql('users', con=engine)\n",
      "    >>> engine.execute(\"SELECT * FROM users\").fetchall()\n",
      "    [(0, 'User 1'), (1, 'User 2'), (2, 'User 3')]\n",
      "    \n",
      "    >>> df1 = pd.DataFrame({'name' : ['User 4', 'User 5']})\n",
      "    >>> df1.to_sql('users', con=engine, if_exists='append')\n",
      "    >>> engine.execute(\"SELECT * FROM users\").fetchall()\n",
      "    [(0, 'User 1'), (1, 'User 2'), (2, 'User 3'),\n",
      "     (0, 'User 4'), (1, 'User 5')]\n",
      "    \n",
      "    Overwrite the table with just ``df1``.\n",
      "    \n",
      "    >>> df1.to_sql('users', con=engine, if_exists='replace',\n",
      "    ...            index_label='id')\n",
      "    >>> engine.execute(\"SELECT * FROM users\").fetchall()\n",
      "    [(0, 'User 4'), (1, 'User 5')]\n",
      "    \n",
      "    Specify the dtype (especially useful for integers with missing values).\n",
      "    Notice that while pandas is forced to store the data as floating point,\n",
      "    the database supports nullable integers. When fetching the data with\n",
      "    Python, we get back integer scalars.\n",
      "    \n",
      "    >>> df = pd.DataFrame({\"A\": [1, None, 2]})\n",
      "    >>> df\n",
      "         A\n",
      "    0  1.0\n",
      "    1  NaN\n",
      "    2  2.0\n",
      "    \n",
      "    >>> from sqlalchemy.types import Integer\n",
      "    >>> df.to_sql('integers', con=engine, index=False,\n",
      "    ...           dtype={\"A\": Integer()})\n",
      "    \n",
      "    >>> engine.execute(\"SELECT * FROM integers\").fetchall()\n",
      "    [(1,), (None,), (2,)]\n",
      "\n"
     ]
    }
   ],
   "source": [
    "help(clean_taxi_df.to_sql)"
   ]
  },
  {
   "cell_type": "code",
   "execution_count": 90,
   "metadata": {},
   "outputs": [],
   "source": [
    "# Import SQLAlchemy `automap` and other dependencies\n",
    "from sqlalchemy import create_engine, inspect"
   ]
  },
  {
   "cell_type": "code",
   "execution_count": 91,
   "metadata": {},
   "outputs": [],
   "source": [
    "# Create the connection engine\n",
    "engine = create_engine(\"sqlite:///taxi.sqlite\")\n",
    "conn = engine.connect()"
   ]
  },
  {
   "cell_type": "code",
   "execution_count": 92,
   "metadata": {
    "inputHidden": false,
    "outputHidden": false
   },
   "outputs": [],
   "source": [
    "from sqlalchemy.ext.declarative import declarative_base\n",
    "Base = declarative_base()"
   ]
  },
  {
   "cell_type": "code",
   "execution_count": 93,
   "metadata": {
    "inputHidden": false,
    "outputHidden": false
   },
   "outputs": [],
   "source": [
    "from sqlalchemy import Column, Integer, String, Float\n",
    "    \n",
    "class Metadata(Base):\n",
    "    __tablename__ = \"taxi_data\"\n",
    "    trip_id = Column(String, primary_key=True)\n",
    "    trip_start_timestamp = Column(String)\n",
    "    trip_end_timestamp = Column(String)\n",
    "    pickup_latitude = Column(Float)\n",
    "    pickup_longitude = Column(Float)\n",
    "    dropoff_latitude = Column(Float)\n",
    "    dropoff_longitude = Column(Float)\n",
    "    fare = Column(Float)"
   ]
  },
  {
   "cell_type": "code",
   "execution_count": 94,
   "metadata": {},
   "outputs": [],
   "source": [
    "Base.metadata.create_all(conn)"
   ]
  },
  {
   "cell_type": "code",
   "execution_count": 95,
   "metadata": {},
   "outputs": [],
   "source": [
    "clean_taxi_df.to_sql(Metadata.__tablename__, conn, index=False, if_exists=\"replace\")"
   ]
  },
  {
   "cell_type": "code",
   "execution_count": 96,
   "metadata": {},
   "outputs": [],
   "source": [
    "import pymysql, os\n",
    "pymysql.install_as_MySQLdb()"
   ]
  },
  {
   "cell_type": "code",
   "execution_count": 97,
   "metadata": {},
   "outputs": [],
   "source": [
    "engine = create_engine(\"postgres://{postgress_url}\")\n",
    "conn = engine.connect()"
   ]
  },
  {
   "cell_type": "code",
   "execution_count": 98,
   "metadata": {},
   "outputs": [],
   "source": [
    "Base.metadata.drop_all(conn)\n",
    "Base.metadata.create_all(conn)"
   ]
  },
  {
   "cell_type": "code",
   "execution_count": 99,
   "metadata": {},
   "outputs": [],
   "source": [
    "clean_taxi_df.to_sql(Metadata.__tablename__, conn, index=False, if_exists=\"append\")"
   ]
  },
  {
   "cell_type": "code",
   "execution_count": null,
   "metadata": {},
   "outputs": [],
   "source": []
  }
 ],
 "metadata": {
  "kernel_info": {
   "name": "python3"
  },
  "kernelspec": {
   "display_name": "my_environment",
   "language": "python",
   "name": "my_environment"
  },
  "language_info": {
   "codemirror_mode": {
    "name": "ipython",
    "version": 3
   },
   "file_extension": ".py",
   "mimetype": "text/x-python",
   "name": "python",
   "nbconvert_exporter": "python",
   "pygments_lexer": "ipython3",
   "version": "3.7.0"
  },
  "nteract": {
   "version": "0.11.6"
  }
 },
 "nbformat": 4,
 "nbformat_minor": 2
}
