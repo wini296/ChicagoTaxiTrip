{
 "cells": [
  {
   "cell_type": "code",
   "execution_count": null,
   "metadata": {},
   "outputs": [],
   "source": [
    "import numpy as np # linear algebra\n",
    "import pandas as pd "
   ]
  },
  {
   "cell_type": "code",
   "execution_count": null,
   "metadata": {},
   "outputs": [],
   "source": [
    "import warnings\n",
    "warnings.filterwarnings('ignore')"
   ]
  },
  {
   "cell_type": "code",
   "execution_count": null,
   "metadata": {},
   "outputs": [],
   "source": [
    "from subprocess import check_output\n",
    "print(check_output([\"ls\",\"CleanData/data_clean.csv\"]).decode(\"utf8\"))"
   ]
  },
  {
   "cell_type": "code",
   "execution_count": null,
   "metadata": {},
   "outputs": [],
   "source": [
    "#Load Chicago Taxi trip data\n",
    "%time\n",
    "# We'll load some important columns only\n",
    "df = pd.read_csv('CleanData/data_clean.csv',\n",
    "                 usecols=['trip_start_timestamp', 'trip_end_timestamp', 'fare', 'pickup_latitude', 'pickup_longitude',\n",
    "                          'dropoff_latitude', 'dropoff_longitude'])"
   ]
  },
  {
   "cell_type": "code",
   "execution_count": null,
   "metadata": {},
   "outputs": [],
   "source": [
    "df.head()"
   ]
  },
  {
   "cell_type": "code",
   "execution_count": null,
   "metadata": {},
   "outputs": [],
   "source": [
    "df.shape"
   ]
  },
  {
   "cell_type": "code",
   "execution_count": null,
   "metadata": {},
   "outputs": [],
   "source": [
    "from bokeh.plotting import figure, output_notebook, show # bokeh plotting library\n",
    "# We'll show the plots in the cells of this notebook\n",
    "output_notebook()"
   ]
  },
  {
   "cell_type": "code",
   "execution_count": null,
   "metadata": {},
   "outputs": [],
   "source": [
    "print(np.min(df['pickup_latitude']), np.min(df['pickup_longitude']))\n",
    "print(np.max(df['pickup_latitude']), np.max(df['pickup_longitude']))\n",
    "\n",
    "print(np.min(df['dropoff_latitude']), np.min(df['dropoff_longitude']))\n",
    "print(np.max(df['dropoff_latitude']), np.max(df['dropoff_longitude']))"
   ]
  },
  {
   "cell_type": "code",
   "execution_count": null,
   "metadata": {},
   "outputs": [],
   "source": [
    "Chicago = x_range, y_range = ((41.68, 42.00), (-87.55, -87.92))"
   ]
  },
  {
   "cell_type": "code",
   "execution_count": null,
   "metadata": {},
   "outputs": [],
   "source": [
    "plot_width = int(750)\n",
    "plot_height = int(plot_width//1.2)\n",
    "\n",
    "def base_plot(tools='pan, wheel_zoom, reset', plot_width=plot_width, plot_height=plot_height, **plot_args):\n",
    "    p = figure(tools=tools, plot_width=plot_width, plot_height=plot_height,\n",
    "              x_range=x_range, y_range=y_range, outline_line_color=None,\n",
    "              min_border=0, min_border_left=0, min_border_right=0,\n",
    "              min_border_top=0, min_border_bottom=0, **plot_args)\n",
    "    \n",
    "    p.xgrid.grid_line_color = None\n",
    "    p.ygrid.grid_line_color = None\n",
    "    return p\n",
    "\n",
    "options = dict(line_color=None, fill_color='blue', size=5)"
   ]
  },
  {
   "cell_type": "code",
   "execution_count": null,
   "metadata": {},
   "outputs": [],
   "source": [
    "%%time\n",
    "# let's plot 10k sample pickup\n",
    "samples = df.sample(n=10000)\n",
    "p = base_plot()\n",
    "\n",
    "p.circle(x=samples['pickup_latitude'], y=samples['pickup_longitude'], **options)\n",
    "show(p)"
   ]
  },
  {
   "cell_type": "code",
   "execution_count": null,
   "metadata": {},
   "outputs": [],
   "source": [
    "import datashader as ds\n",
    "from datashader import transfer_functions as tr_fns\n",
    "from datashader.colors import Greys9\n",
    "Greys9_r = list(reversed(Greys9))[:2]"
   ]
  },
  {
   "cell_type": "code",
   "execution_count": null,
   "metadata": {},
   "outputs": [],
   "source": [
    "%%time\n",
    "cvs = ds.Canvas(plot_width=plot_width, plot_height=plot_height, x_range=x_range, y_range=y_range)\n",
    "agg = cvs.points(df, 'dropoff_longitude', 'dropoff_latitude')\n",
    "img = tr_fns.shade(agg, cmap=[\"white\", 'darkblue'], how='linear')\n",
    "\n",
    "img"
   ]
  },
  {
   "cell_type": "code",
   "execution_count": null,
   "metadata": {},
   "outputs": [],
   "source": [
    "from datashader.bokeh_ext import InteractiveImage\n",
    "from functools import partial\n",
    "from datashader.utils import export_image\n",
    "from datashader.colors import colormap_select, Greys9, Hot, viridis, inferno\n",
    "from IPython.core.display import HTML, display\n",
    "\n",
    "background = \"black\"\n",
    "export = partial(export_image, export_path=\"export\", background=background)\n",
    "cm = partial(colormap_select, reverse=(background==\"black\"))\n",
    "\n",
    "def create_image(x_range, y_range, w=plot_width, h=plot_height):\n",
    "    cvs = ds.Canvas(plot_width=w, plot_height=h, x_range=x_range, y_range=y_range)\n",
    "    agg = cvs.points(df, 'dropoff_longitude', 'dropoff_latitude')\n",
    "    img = tr_fns.shade(agg, cmap=Hot, how='eq_hist')\n",
    "    return tr_fns.dynspread(img, threshold=0.5, max_px=4)\n",
    "\n",
    "p = base_plot(background_fill_color=background)\n",
    "export(create_image(*Chicago), \"Chicago_HOT\")\n",
    "InteractiveImage(p, create_image)"
   ]
  },
  {
   "cell_type": "code",
   "execution_count": null,
   "metadata": {},
   "outputs": [],
   "source": [
    "from functools import partial\n",
    "\n",
    "def create_image90(x_range, y_range, w=plot_width, h=plot_height):\n",
    "    cvs = ds.Canvas(plot_width=w, plot_height=h, x_range=x_range, y_range=y_range)\n",
    "    agg = cvs.points(df, 'dropoff_longitude', 'dropoff_latitude')\n",
    "    img = tr_fns.shade(agg.where(agg > np.percentile(agg, 90)), cmap=inferno, how='eq_hist')\n",
    "    return tr_fns.dynspread(img, threshold=0.3, max_px=4)\n",
    "    \n",
    "p = base_plot()\n",
    "export(create_image(*Chicago), \"Chicago_90th\")\n",
    "InteractiveImage(p, create_image90)"
   ]
  },
  {
   "cell_type": "code",
   "execution_count": null,
   "metadata": {},
   "outputs": [],
   "source": [
    "def merged_images(x_range, y_range, w=plot_width, h=plot_height, how='log'):\n",
    "    cvs = ds.Canvas(plot_width=w, plot_height=h, x_range=x_range, y_range=y_range)\n",
    "    picks = cvs.points(df, 'pickup_longitude', 'pickup_latitude')\n",
    "    drops = cvs.points(df, 'dropoff_longitude', 'dropoff_latitude')\n",
    "    more_drops = tr_fns.shade(drops.where(drops > picks), cmap=[\"darkblue\", 'cornflowerblue'], how=how)\n",
    "    more_picks = tr_fns.shade(drops.where(picks > drops), cmap=[\"darkred\", 'orangered'], how=how)\n",
    "    img = tr_fns.stack(more_picks, more_drops)\n",
    "    return tr_fns.dynspread(img, threshold=0.3, max_px=4)\n",
    "\n",
    "p = base_plot(background_fill_color=background)\n",
    "export(merged_images(*Chicago), \"Chicago_pickups_vs_drops\")\n",
    "InteractiveImage(p, merged_images)"
   ]
  },
  {
   "cell_type": "code",
   "execution_count": null,
   "metadata": {},
   "outputs": [],
   "source": []
  },
  {
   "cell_type": "code",
   "execution_count": null,
   "metadata": {},
   "outputs": [],
   "source": []
  }
 ],
 "metadata": {
  "kernelspec": {
   "display_name": "ut_data",
   "language": "python",
   "name": "ut_data"
  },
  "language_info": {
   "codemirror_mode": {
    "name": "ipython",
    "version": 3
   },
   "file_extension": ".py",
   "mimetype": "text/x-python",
   "name": "python",
   "nbconvert_exporter": "python",
   "pygments_lexer": "ipython3",
   "version": "3.7.2"
  }
 },
 "nbformat": 4,
 "nbformat_minor": 2
}
